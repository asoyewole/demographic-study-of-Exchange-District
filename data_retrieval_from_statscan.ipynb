{
 "cells": [
  {
   "cell_type": "markdown",
   "metadata": {},
   "source": [
    "# Exchange District BIZ\n",
    "## Data Collection and Visualization project\n",
    "## Demographic Data Retrieval from Statistics Canada\n",
    "\n",
    "Completed by\n",
    "\n",
    "### Ayotunde Oyewole"
   ]
  },
  {
   "cell_type": "code",
   "execution_count": 17,
   "metadata": {},
   "outputs": [],
   "source": [
    "import pandas as pd\n",
    "import requests\n",
    "import time\n",
    "from selenium import webdriver\n",
    "from selenium.webdriver.common.by import By"
   ]
  },
  {
   "cell_type": "markdown",
   "metadata": {},
   "source": [
    "## Introduction\n",
    "\n",
    "After extracting the dissemination zones that are within and around the Exchange District, the demographic data for each area will be retrieved from the statistics canada website. While an API service is provided by StatCan, I have elected to scrape the data from the website using selenium. This was because of the initial difficulty in constructing the 'baseurl' for the API. This has been resolved, but only after all the data had been retrieved."
   ]
  },
  {
   "cell_type": "code",
   "execution_count": 7,
   "metadata": {},
   "outputs": [
    {
     "data": {
      "text/html": [
       "<div>\n",
       "<style scoped>\n",
       "    .dataframe tbody tr th:only-of-type {\n",
       "        vertical-align: middle;\n",
       "    }\n",
       "\n",
       "    .dataframe tbody tr th {\n",
       "        vertical-align: top;\n",
       "    }\n",
       "\n",
       "    .dataframe thead th {\n",
       "        text-align: right;\n",
       "    }\n",
       "</style>\n",
       "<table border=\"1\" class=\"dataframe\">\n",
       "  <thead>\n",
       "    <tr style=\"text-align: right;\">\n",
       "      <th></th>\n",
       "      <th>Unnamed: 0</th>\n",
       "      <th>DAUID</th>\n",
       "      <th>DGUID</th>\n",
       "      <th>LANDAREA</th>\n",
       "      <th>PRUID</th>\n",
       "      <th>centroid</th>\n",
       "      <th>lon</th>\n",
       "      <th>lat</th>\n",
       "      <th>address</th>\n",
       "    </tr>\n",
       "  </thead>\n",
       "  <tbody>\n",
       "    <tr>\n",
       "      <th>0</th>\n",
       "      <td>34401</td>\n",
       "      <td>46110069</td>\n",
       "      <td>2021S051246110069</td>\n",
       "      <td>0.3603</td>\n",
       "      <td>46</td>\n",
       "      <td>POINT (-97.13902481746756 49.90903048735655)</td>\n",
       "      <td>-97.139025</td>\n",
       "      <td>49.909030</td>\n",
       "      <td>Charles Street</td>\n",
       "    </tr>\n",
       "    <tr>\n",
       "      <th>1</th>\n",
       "      <td>34402</td>\n",
       "      <td>46110070</td>\n",
       "      <td>2021S051246110070</td>\n",
       "      <td>0.1959</td>\n",
       "      <td>46</td>\n",
       "      <td>POINT (-97.14367696321875 49.905945926473336)</td>\n",
       "      <td>-97.143677</td>\n",
       "      <td>49.905946</td>\n",
       "      <td>Laura Street</td>\n",
       "    </tr>\n",
       "    <tr>\n",
       "      <th>2</th>\n",
       "      <td>34403</td>\n",
       "      <td>46110071</td>\n",
       "      <td>2021S051246110071</td>\n",
       "      <td>0.3278</td>\n",
       "      <td>46</td>\n",
       "      <td>POINT (-97.13964586847196 49.903352911937425)</td>\n",
       "      <td>-97.139646</td>\n",
       "      <td>49.903353</td>\n",
       "      <td>Alexander Avenue</td>\n",
       "    </tr>\n",
       "    <tr>\n",
       "      <th>3</th>\n",
       "      <td>35539</td>\n",
       "      <td>46110631</td>\n",
       "      <td>2021S051246110631</td>\n",
       "      <td>0.3967</td>\n",
       "      <td>46</td>\n",
       "      <td>POINT (-97.1442874964846 49.89111922600036)</td>\n",
       "      <td>-97.144287</td>\n",
       "      <td>49.891119</td>\n",
       "      <td>Hargrave Street</td>\n",
       "    </tr>\n",
       "    <tr>\n",
       "      <th>4</th>\n",
       "      <td>35540</td>\n",
       "      <td>46110632</td>\n",
       "      <td>2021S051246110632</td>\n",
       "      <td>0.1390</td>\n",
       "      <td>46</td>\n",
       "      <td>POINT (-97.14682245444494 49.893980105138226)</td>\n",
       "      <td>-97.146822</td>\n",
       "      <td>49.893980</td>\n",
       "      <td>Carlton Street</td>\n",
       "    </tr>\n",
       "  </tbody>\n",
       "</table>\n",
       "</div>"
      ],
      "text/plain": [
       "   Unnamed: 0     DAUID              DGUID  LANDAREA  PRUID  \\\n",
       "0       34401  46110069  2021S051246110069    0.3603     46   \n",
       "1       34402  46110070  2021S051246110070    0.1959     46   \n",
       "2       34403  46110071  2021S051246110071    0.3278     46   \n",
       "3       35539  46110631  2021S051246110631    0.3967     46   \n",
       "4       35540  46110632  2021S051246110632    0.1390     46   \n",
       "\n",
       "                                        centroid        lon        lat  \\\n",
       "0   POINT (-97.13902481746756 49.90903048735655) -97.139025  49.909030   \n",
       "1  POINT (-97.14367696321875 49.905945926473336) -97.143677  49.905946   \n",
       "2  POINT (-97.13964586847196 49.903352911937425) -97.139646  49.903353   \n",
       "3    POINT (-97.1442874964846 49.89111922600036) -97.144287  49.891119   \n",
       "4  POINT (-97.14682245444494 49.893980105138226) -97.146822  49.893980   \n",
       "\n",
       "            address  \n",
       "0    Charles Street  \n",
       "1      Laura Street  \n",
       "2  Alexander Avenue  \n",
       "3   Hargrave Street  \n",
       "4    Carlton Street  "
      ]
     },
     "execution_count": 7,
     "metadata": {},
     "output_type": "execute_result"
    }
   ],
   "source": [
    "# Load the extracted dissemination areas into dataframe. Only the DAUID/DGUID is really needed.\n",
    "# The DGUID is actually the DAUID with 2021s0512 included.\n",
    "\n",
    "df_da = pd.read_csv('exchange-district-dissemination-areas.csv')\n",
    "df_da.head()"
   ]
  },
  {
   "cell_type": "code",
   "execution_count": 16,
   "metadata": {},
   "outputs": [
    {
     "data": {
      "text/plain": [
       "[46110069,\n",
       " 46110070,\n",
       " 46110071,\n",
       " 46110631,\n",
       " 46110632,\n",
       " 46110633,\n",
       " 46110634,\n",
       " 46110635,\n",
       " 46110666,\n",
       " 46110667,\n",
       " 46110668,\n",
       " 46110669,\n",
       " 46110670,\n",
       " 46110671,\n",
       " 46110072,\n",
       " 46110073,\n",
       " 46110074,\n",
       " 46110075,\n",
       " 46110077,\n",
       " 46110078,\n",
       " 46110176,\n",
       " 46110630,\n",
       " 46110079,\n",
       " 46110080,\n",
       " 46110081,\n",
       " 46111178,\n",
       " 46110805,\n",
       " 46110809,\n",
       " 46110810]"
      ]
     },
     "execution_count": 16,
     "metadata": {},
     "output_type": "execute_result"
    }
   ],
   "source": [
    "dissemination_areas = list(df_da['DAUID'])\n",
    "dissemination_areas"
   ]
  },
  {
   "cell_type": "code",
   "execution_count": 18,
   "metadata": {},
   "outputs": [
    {
     "name": "stdout",
     "output_type": "stream",
     "text": [
      "saved da_46110069_table_0.csv\n",
      "saved da_46110070_table_0.csv\n",
      "saved da_46110071_table_0.csv\n",
      "saved da_46110631_table_0.csv\n",
      "saved da_46110632_table_0.csv\n",
      "saved da_46110633_table_0.csv\n",
      "saved da_46110634_table_0.csv\n",
      "saved da_46110635_table_0.csv\n",
      "saved da_46110666_table_0.csv\n",
      "saved da_46110667_table_0.csv\n",
      "saved da_46110668_table_0.csv\n",
      "saved da_46110669_table_0.csv\n",
      "saved da_46110670_table_0.csv\n",
      "saved da_46110671_table_0.csv\n",
      "saved da_46110072_table_0.csv\n",
      "saved da_46110073_table_0.csv\n",
      "saved da_46110074_table_0.csv\n",
      "saved da_46110075_table_0.csv\n",
      "saved da_46110077_table_0.csv\n",
      "saved da_46110078_table_0.csv\n",
      "saved da_46110176_table_0.csv\n",
      "saved da_46110630_table_0.csv\n",
      "saved da_46110079_table_0.csv\n",
      "saved da_46110080_table_0.csv\n",
      "saved da_46110081_table_0.csv\n",
      "saved da_46111178_table_0.csv\n",
      "saved da_46110805_table_0.csv\n"
     ]
    },
    {
     "ename": "WebDriverException",
     "evalue": "Message: disconnected: Unable to receive message from renderer\n  (failed to check if window was closed: disconnected: not connected to DevTools)\n  (Session info: chrome=128.0.6613.138)\nStacktrace:\n\tGetHandleVerifier [0x00007FF7C50F9412+29090]\n\t(No symbol) [0x00007FF7C506E239]\n\t(No symbol) [0x00007FF7C4F2B1DA]\n\t(No symbol) [0x00007FF7C4F13F0D]\n\t(No symbol) [0x00007FF7C4F13C10]\n\t(No symbol) [0x00007FF7C4F11ACF]\n\t(No symbol) [0x00007FF7C4F1231F]\n\t(No symbol) [0x00007FF7C4F2F791]\n\t(No symbol) [0x00007FF7C4F3090D]\n\t(No symbol) [0x00007FF7C4F34081]\n\t(No symbol) [0x00007FF7C4F34120]\n\t(No symbol) [0x00007FF7C4F78C9B]\n\t(No symbol) [0x00007FF7C4FA66EA]\n\t(No symbol) [0x00007FF7C4F726C6]\n\t(No symbol) [0x00007FF7C4FA6900]\n\t(No symbol) [0x00007FF7C4FC65A2]\n\t(No symbol) [0x00007FF7C4FA6493]\n\t(No symbol) [0x00007FF7C4F709D1]\n\t(No symbol) [0x00007FF7C4F71B31]\n\tGetHandleVerifier [0x00007FF7C541871D+3302573]\n\tGetHandleVerifier [0x00007FF7C5464243+3612627]\n\tGetHandleVerifier [0x00007FF7C545A417+3572135]\n\tGetHandleVerifier [0x00007FF7C51B5EB6+801862]\n\t(No symbol) [0x00007FF7C507945F]\n\t(No symbol) [0x00007FF7C5074FB4]\n\t(No symbol) [0x00007FF7C5075140]\n\t(No symbol) [0x00007FF7C506461F]\n\tBaseThreadInitThunk [0x00007FF99471257D+29]\n\tRtlUserThreadStart [0x00007FF995D2AF28+40]\n",
     "output_type": "error",
     "traceback": [
      "\u001b[1;31m---------------------------------------------------------------------------\u001b[0m",
      "\u001b[1;31mWebDriverException\u001b[0m                        Traceback (most recent call last)",
      "Cell \u001b[1;32mIn[18], line 19\u001b[0m\n\u001b[0;32m     17\u001b[0m \u001b[38;5;28;01mfor\u001b[39;00m row \u001b[38;5;129;01min\u001b[39;00m rows:\n\u001b[0;32m     18\u001b[0m     cols \u001b[38;5;241m=\u001b[39m row\u001b[38;5;241m.\u001b[39mfind_elements(By\u001b[38;5;241m.\u001b[39mTAG_NAME, \u001b[38;5;124m'\u001b[39m\u001b[38;5;124mtd\u001b[39m\u001b[38;5;124m'\u001b[39m)\n\u001b[1;32m---> 19\u001b[0m     data\u001b[38;5;241m.\u001b[39mappend(\u001b[43m[\u001b[49m\u001b[43mcol\u001b[49m\u001b[38;5;241;43m.\u001b[39;49m\u001b[43mtext\u001b[49m\u001b[43m \u001b[49m\u001b[38;5;28;43;01mfor\u001b[39;49;00m\u001b[43m \u001b[49m\u001b[43mcol\u001b[49m\u001b[43m \u001b[49m\u001b[38;5;129;43;01min\u001b[39;49;00m\u001b[43m \u001b[49m\u001b[43mcols\u001b[49m\u001b[43m]\u001b[49m)\n\u001b[0;32m     21\u001b[0m \u001b[38;5;66;03m# Create Dataframe and save to csv\u001b[39;00m\n\u001b[0;32m     22\u001b[0m df \u001b[38;5;241m=\u001b[39m pd\u001b[38;5;241m.\u001b[39mDataFrame(data)\n",
      "Cell \u001b[1;32mIn[18], line 19\u001b[0m, in \u001b[0;36m<listcomp>\u001b[1;34m(.0)\u001b[0m\n\u001b[0;32m     17\u001b[0m \u001b[38;5;28;01mfor\u001b[39;00m row \u001b[38;5;129;01min\u001b[39;00m rows:\n\u001b[0;32m     18\u001b[0m     cols \u001b[38;5;241m=\u001b[39m row\u001b[38;5;241m.\u001b[39mfind_elements(By\u001b[38;5;241m.\u001b[39mTAG_NAME, \u001b[38;5;124m'\u001b[39m\u001b[38;5;124mtd\u001b[39m\u001b[38;5;124m'\u001b[39m)\n\u001b[1;32m---> 19\u001b[0m     data\u001b[38;5;241m.\u001b[39mappend([\u001b[43mcol\u001b[49m\u001b[38;5;241;43m.\u001b[39;49m\u001b[43mtext\u001b[49m \u001b[38;5;28;01mfor\u001b[39;00m col \u001b[38;5;129;01min\u001b[39;00m cols])\n\u001b[0;32m     21\u001b[0m \u001b[38;5;66;03m# Create Dataframe and save to csv\u001b[39;00m\n\u001b[0;32m     22\u001b[0m df \u001b[38;5;241m=\u001b[39m pd\u001b[38;5;241m.\u001b[39mDataFrame(data)\n",
      "File \u001b[1;32mc:\\Users\\asoye\\AppData\\Local\\Programs\\Python\\Python311\\Lib\\site-packages\\selenium\\webdriver\\remote\\webelement.py:90\u001b[0m, in \u001b[0;36mWebElement.text\u001b[1;34m(self)\u001b[0m\n\u001b[0;32m     87\u001b[0m \u001b[38;5;129m@property\u001b[39m\n\u001b[0;32m     88\u001b[0m \u001b[38;5;28;01mdef\u001b[39;00m \u001b[38;5;21mtext\u001b[39m(\u001b[38;5;28mself\u001b[39m) \u001b[38;5;241m-\u001b[39m\u001b[38;5;241m>\u001b[39m \u001b[38;5;28mstr\u001b[39m:\n\u001b[0;32m     89\u001b[0m \u001b[38;5;250m    \u001b[39m\u001b[38;5;124;03m\"\"\"The text of the element.\"\"\"\u001b[39;00m\n\u001b[1;32m---> 90\u001b[0m     \u001b[38;5;28;01mreturn\u001b[39;00m \u001b[38;5;28;43mself\u001b[39;49m\u001b[38;5;241;43m.\u001b[39;49m\u001b[43m_execute\u001b[49m\u001b[43m(\u001b[49m\u001b[43mCommand\u001b[49m\u001b[38;5;241;43m.\u001b[39;49m\u001b[43mGET_ELEMENT_TEXT\u001b[49m\u001b[43m)\u001b[49m[\u001b[38;5;124m\"\u001b[39m\u001b[38;5;124mvalue\u001b[39m\u001b[38;5;124m\"\u001b[39m]\n",
      "File \u001b[1;32mc:\\Users\\asoye\\AppData\\Local\\Programs\\Python\\Python311\\Lib\\site-packages\\selenium\\webdriver\\remote\\webelement.py:395\u001b[0m, in \u001b[0;36mWebElement._execute\u001b[1;34m(self, command, params)\u001b[0m\n\u001b[0;32m    393\u001b[0m     params \u001b[38;5;241m=\u001b[39m {}\n\u001b[0;32m    394\u001b[0m params[\u001b[38;5;124m\"\u001b[39m\u001b[38;5;124mid\u001b[39m\u001b[38;5;124m\"\u001b[39m] \u001b[38;5;241m=\u001b[39m \u001b[38;5;28mself\u001b[39m\u001b[38;5;241m.\u001b[39m_id\n\u001b[1;32m--> 395\u001b[0m \u001b[38;5;28;01mreturn\u001b[39;00m \u001b[38;5;28;43mself\u001b[39;49m\u001b[38;5;241;43m.\u001b[39;49m\u001b[43m_parent\u001b[49m\u001b[38;5;241;43m.\u001b[39;49m\u001b[43mexecute\u001b[49m\u001b[43m(\u001b[49m\u001b[43mcommand\u001b[49m\u001b[43m,\u001b[49m\u001b[43m \u001b[49m\u001b[43mparams\u001b[49m\u001b[43m)\u001b[49m\n",
      "File \u001b[1;32mc:\\Users\\asoye\\AppData\\Local\\Programs\\Python\\Python311\\Lib\\site-packages\\selenium\\webdriver\\remote\\webdriver.py:354\u001b[0m, in \u001b[0;36mWebDriver.execute\u001b[1;34m(self, driver_command, params)\u001b[0m\n\u001b[0;32m    352\u001b[0m response \u001b[38;5;241m=\u001b[39m \u001b[38;5;28mself\u001b[39m\u001b[38;5;241m.\u001b[39mcommand_executor\u001b[38;5;241m.\u001b[39mexecute(driver_command, params)\n\u001b[0;32m    353\u001b[0m \u001b[38;5;28;01mif\u001b[39;00m response:\n\u001b[1;32m--> 354\u001b[0m     \u001b[38;5;28;43mself\u001b[39;49m\u001b[38;5;241;43m.\u001b[39;49m\u001b[43merror_handler\u001b[49m\u001b[38;5;241;43m.\u001b[39;49m\u001b[43mcheck_response\u001b[49m\u001b[43m(\u001b[49m\u001b[43mresponse\u001b[49m\u001b[43m)\u001b[49m\n\u001b[0;32m    355\u001b[0m     response[\u001b[38;5;124m\"\u001b[39m\u001b[38;5;124mvalue\u001b[39m\u001b[38;5;124m\"\u001b[39m] \u001b[38;5;241m=\u001b[39m \u001b[38;5;28mself\u001b[39m\u001b[38;5;241m.\u001b[39m_unwrap_value(response\u001b[38;5;241m.\u001b[39mget(\u001b[38;5;124m\"\u001b[39m\u001b[38;5;124mvalue\u001b[39m\u001b[38;5;124m\"\u001b[39m, \u001b[38;5;28;01mNone\u001b[39;00m))\n\u001b[0;32m    356\u001b[0m     \u001b[38;5;28;01mreturn\u001b[39;00m response\n",
      "File \u001b[1;32mc:\\Users\\asoye\\AppData\\Local\\Programs\\Python\\Python311\\Lib\\site-packages\\selenium\\webdriver\\remote\\errorhandler.py:229\u001b[0m, in \u001b[0;36mErrorHandler.check_response\u001b[1;34m(self, response)\u001b[0m\n\u001b[0;32m    227\u001b[0m         alert_text \u001b[38;5;241m=\u001b[39m value[\u001b[38;5;124m\"\u001b[39m\u001b[38;5;124malert\u001b[39m\u001b[38;5;124m\"\u001b[39m]\u001b[38;5;241m.\u001b[39mget(\u001b[38;5;124m\"\u001b[39m\u001b[38;5;124mtext\u001b[39m\u001b[38;5;124m\"\u001b[39m)\n\u001b[0;32m    228\u001b[0m     \u001b[38;5;28;01mraise\u001b[39;00m exception_class(message, screen, stacktrace, alert_text)  \u001b[38;5;66;03m# type: ignore[call-arg]  # mypy is not smart enough here\u001b[39;00m\n\u001b[1;32m--> 229\u001b[0m \u001b[38;5;28;01mraise\u001b[39;00m exception_class(message, screen, stacktrace)\n",
      "\u001b[1;31mWebDriverException\u001b[0m: Message: disconnected: Unable to receive message from renderer\n  (failed to check if window was closed: disconnected: not connected to DevTools)\n  (Session info: chrome=128.0.6613.138)\nStacktrace:\n\tGetHandleVerifier [0x00007FF7C50F9412+29090]\n\t(No symbol) [0x00007FF7C506E239]\n\t(No symbol) [0x00007FF7C4F2B1DA]\n\t(No symbol) [0x00007FF7C4F13F0D]\n\t(No symbol) [0x00007FF7C4F13C10]\n\t(No symbol) [0x00007FF7C4F11ACF]\n\t(No symbol) [0x00007FF7C4F1231F]\n\t(No symbol) [0x00007FF7C4F2F791]\n\t(No symbol) [0x00007FF7C4F3090D]\n\t(No symbol) [0x00007FF7C4F34081]\n\t(No symbol) [0x00007FF7C4F34120]\n\t(No symbol) [0x00007FF7C4F78C9B]\n\t(No symbol) [0x00007FF7C4FA66EA]\n\t(No symbol) [0x00007FF7C4F726C6]\n\t(No symbol) [0x00007FF7C4FA6900]\n\t(No symbol) [0x00007FF7C4FC65A2]\n\t(No symbol) [0x00007FF7C4FA6493]\n\t(No symbol) [0x00007FF7C4F709D1]\n\t(No symbol) [0x00007FF7C4F71B31]\n\tGetHandleVerifier [0x00007FF7C541871D+3302573]\n\tGetHandleVerifier [0x00007FF7C5464243+3612627]\n\tGetHandleVerifier [0x00007FF7C545A417+3572135]\n\tGetHandleVerifier [0x00007FF7C51B5EB6+801862]\n\t(No symbol) [0x00007FF7C507945F]\n\t(No symbol) [0x00007FF7C5074FB4]\n\t(No symbol) [0x00007FF7C5075140]\n\t(No symbol) [0x00007FF7C506461F]\n\tBaseThreadInitThunk [0x00007FF99471257D+29]\n\tRtlUserThreadStart [0x00007FF995D2AF28+40]\n"
     ]
    }
   ],
   "source": [
    "driver = webdriver.Chrome()\n",
    "\n",
    "# Url base template for statcan dissemination area data download\n",
    "base_url = 'https://www12.statcan.gc.ca/census-recensement/2021/dp-pd/prof/details/page.cfm?Lang=E&GENDERlist=1,2,3&STATISTIClist=1,4&HEADERlist=0&DGUIDlist=2021S0512{}&SearchText={}'\n",
    "\n",
    "da2 = [46110809, 46110810]\n",
    "\n",
    "# for da in dissemination_areas:\n",
    "for da in da2:\n",
    "    #open webpage\n",
    "    driver.get(base_url.format(da, da))\n",
    "    time.sleep(3) # allow time to load page\n",
    "\n",
    "    # find and retrieve table elements\n",
    "    tables = driver.find_elements(By.TAG_NAME, 'table')\n",
    "    # \n",
    "    for idx, table in enumerate(tables):\n",
    "        rows = table.find_elements(By.TAG_NAME, 'tr')\n",
    "        data = []\n",
    "        for row in rows:\n",
    "            cols = row.find_elements(By.TAG_NAME, 'td')\n",
    "            data.append([col.text for col in cols])\n",
    "\n",
    "        # Create Dataframe and save to csv\n",
    "        df = pd.DataFrame(data)\n",
    "        csv_filename = f'da_{da}_table_{idx}.csv'\n",
    "        df.to_csv(f'exchange_district_demographic_data/{csv_filename}', index = False)\n",
    "        print(f'saved {csv_filename}')\n",
    "\n",
    "driver.quit()"
   ]
  },
  {
   "cell_type": "markdown",
   "metadata": {},
   "source": [
    "The data for all but two of the dissemination zones were retrieved successfully. The remaining two failed because of a timeout. They will be re-attempted in the next cell below. Because of the 'for-loops' used to scrape the website, it took over 2 hours (173minutes) to download the data."
   ]
  },
  {
   "cell_type": "code",
   "execution_count": 22,
   "metadata": {},
   "outputs": [
    {
     "name": "stdout",
     "output_type": "stream",
     "text": [
      "saved da_46110809_table_0.csv\n",
      "saved da_46110810_table_0.csv\n"
     ]
    }
   ],
   "source": [
    "driver = webdriver.Chrome()\n",
    "\n",
    "# Url base template for statcan dissemination area data download\n",
    "base_url = 'https://www12.statcan.gc.ca/census-recensement/2021/dp-pd/prof/details/page.cfm?Lang=E&GENDERlist=1,2,3&STATISTIClist=1,4&HEADERlist=0&DGUIDlist=2021S0512{}&SearchText={}'\n",
    "\n",
    "da2 = [46110809, 46110810]\n",
    "\n",
    "for da in da2:\n",
    "    # open webpage\n",
    "    driver.get(base_url.format(da, da))\n",
    "    time.sleep(3)  # allow time to load page\n",
    "\n",
    "    # find and retrieve table elements\n",
    "    tables = driver.find_elements(By.TAG_NAME, 'table')\n",
    "    #\n",
    "    for idx, table in enumerate(tables):\n",
    "        rows = table.find_elements(By.TAG_NAME, 'tr')\n",
    "        data = []\n",
    "        for row in rows:\n",
    "            cols = row.find_elements(By.TAG_NAME, 'td')\n",
    "            data.append([col.text for col in cols])\n",
    "\n",
    "        # Create Dataframe and save to csv\n",
    "        df = pd.DataFrame(data)\n",
    "        csv_filename = f'da_{da}_table_{idx}.csv'\n",
    "        df.to_csv(\n",
    "            f'exchange_district_demographic_data/{csv_filename}', index=False)\n",
    "        print(f'saved {csv_filename}')\n",
    "\n",
    "driver.quit()"
   ]
  }
 ],
 "metadata": {
  "kernelspec": {
   "display_name": "Python 3",
   "language": "python",
   "name": "python3"
  },
  "language_info": {
   "codemirror_mode": {
    "name": "ipython",
    "version": 3
   },
   "file_extension": ".py",
   "mimetype": "text/x-python",
   "name": "python",
   "nbconvert_exporter": "python",
   "pygments_lexer": "ipython3",
   "version": "3.11.5"
  }
 },
 "nbformat": 4,
 "nbformat_minor": 2
}
